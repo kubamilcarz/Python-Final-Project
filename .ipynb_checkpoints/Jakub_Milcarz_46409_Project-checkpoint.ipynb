{
 "cells": [
  {
   "cell_type": "code",
   "execution_count": 85,
   "id": "cca66e34",
   "metadata": {},
   "outputs": [],
   "source": [
    "import numpy as np\n",
    "import pandas as pd\n",
    "import matplotlib.pyplot as plt\n",
    "\n",
    "from sklearn.model_selection import train_test_split"
   ]
  },
  {
   "cell_type": "code",
   "execution_count": 86,
   "id": "6c064afa",
   "metadata": {},
   "outputs": [],
   "source": [
    "from tensorflow.keras.preprocessing.image import load_img, img_to_array"
   ]
  },
  {
   "cell_type": "code",
   "execution_count": 87,
   "id": "963d517f",
   "metadata": {},
   "outputs": [],
   "source": [
    "from imports_for_ML import load_images"
   ]
  },
  {
   "cell_type": "markdown",
   "id": "31874b04",
   "metadata": {},
   "source": [
    "Load photos"
   ]
  },
  {
   "cell_type": "code",
   "execution_count": 153,
   "id": "dfa12ef8",
   "metadata": {},
   "outputs": [],
   "source": [
    "import os\n",
    "\n",
    "img_dir = r'/Users/kubamilcarz/My Drive/College/Sophomore/Python/Project/train'\n",
    "images = os.listdir(img_dir)\n",
    "full_images = [os.path.join(img_dir, img) for img in images]"
   ]
  },
  {
   "cell_type": "code",
   "execution_count": 154,
   "id": "be5459e4",
   "metadata": {},
   "outputs": [
    {
     "data": {
      "text/plain": [
       "25000"
      ]
     },
     "execution_count": 154,
     "metadata": {},
     "output_type": "execute_result"
    }
   ],
   "source": [
    "len(full_images) # check if we have 25000 photos"
   ]
  },
  {
   "cell_type": "code",
   "execution_count": 155,
   "id": "86859746",
   "metadata": {},
   "outputs": [
    {
     "name": "stdout",
     "output_type": "stream",
     "text": [
      "**************************************************\n",
      "**************************************************\n",
      "**************************************************\n",
      "**************************************************\n",
      "**************************************************\n",
      "**************************************************\n",
      "**************************************************\n",
      "**************************************************\n",
      "**************************************************\n",
      "**************************************************\n"
     ]
    }
   ],
   "source": [
    "# Splitting data into test & train\n",
    "X, y = load_images(img_dir, n_images=10000, resize=(50, 50))\n",
    "# X_train, X_test, y_train, y_test = train_test_split(X, y, test_size=0.1, random_state=23)"
   ]
  },
  {
   "cell_type": "code",
   "execution_count": 200,
   "id": "5ea85ef3",
   "metadata": {},
   "outputs": [],
   "source": [
    "# split data into train, validate, test\n",
    "X_train, X_val_test, y_train, y_val_test = train_test_split(X, y, test_size=0.1)\n",
    "X_val, X_test, y_val, y_test = train_test_split(X_val_test, y_val_test, test_size=0.3)"
   ]
  },
  {
   "cell_type": "code",
   "execution_count": 218,
   "id": "6857fd35",
   "metadata": {},
   "outputs": [],
   "source": [
    "# Load packages\n",
    "from keras.models import Sequential\n",
    "from keras.layers import Dense\n",
    "from keras.layers import Conv2D, MaxPooling2D, Flatten"
   ]
  },
  {
   "cell_type": "code",
   "execution_count": 226,
   "id": "4f1a8115",
   "metadata": {},
   "outputs": [],
   "source": [
    "model = Sequential([\n",
    "    Conv2D(16,(3,3), activation = 'relu'),\n",
    "    Conv2D(16,(3,3), activation = 'relu'),\n",
    "    MaxPooling2D((3,3)),\n",
    "    \n",
    "    Conv2D(16,(3,3), activation = 'relu'),\n",
    "    Conv2D(16,(3,3), activation = 'relu'),\n",
    "    MaxPooling2D((2,2)),\n",
    "    \n",
    "    Conv2D(16,(3,3), activation = 'relu'),\n",
    "    MaxPooling2D((3,3)),\n",
    "    \n",
    "    Flatten(input_shape = (5, 5,32)),\n",
    "    Dense(64, activation = 'relu'),\n",
    "    \n",
    "    Dense(1, activation='sigmoid')\n",
    "])"
   ]
  },
  {
   "cell_type": "code",
   "execution_count": 227,
   "id": "0e34bdd6",
   "metadata": {},
   "outputs": [],
   "source": [
    "model.compile(loss = 'binary_crossentropy', optimizer  = 'adam', metrics = ['accuracy'])"
   ]
  },
  {
   "cell_type": "code",
   "execution_count": 228,
   "id": "aa2aab0a",
   "metadata": {
    "scrolled": true
   },
   "outputs": [
    {
     "name": "stdout",
     "output_type": "stream",
     "text": [
      "Epoch 1/17\n",
      "282/282 [==============================] - 6s 20ms/step - loss: 0.7142 - accuracy: 0.5331 - val_loss: 0.7002 - val_accuracy: 0.5171\n",
      "Epoch 2/17\n",
      "282/282 [==============================] - 5s 19ms/step - loss: 0.6845 - accuracy: 0.5493 - val_loss: 0.6590 - val_accuracy: 0.6129\n",
      "Epoch 3/17\n",
      "282/282 [==============================] - 5s 19ms/step - loss: 0.6655 - accuracy: 0.5899 - val_loss: 0.6492 - val_accuracy: 0.6343\n",
      "Epoch 4/17\n",
      "282/282 [==============================] - 5s 19ms/step - loss: 0.6473 - accuracy: 0.6254 - val_loss: 0.6352 - val_accuracy: 0.6486\n",
      "Epoch 5/17\n",
      "282/282 [==============================] - 5s 19ms/step - loss: 0.6370 - accuracy: 0.6358 - val_loss: 0.6430 - val_accuracy: 0.6457\n",
      "Epoch 6/17\n",
      "282/282 [==============================] - 5s 19ms/step - loss: 0.6214 - accuracy: 0.6580 - val_loss: 0.6185 - val_accuracy: 0.6614\n",
      "Epoch 7/17\n",
      "282/282 [==============================] - 5s 19ms/step - loss: 0.6018 - accuracy: 0.6756 - val_loss: 0.6665 - val_accuracy: 0.6557\n",
      "Epoch 8/17\n",
      "282/282 [==============================] - 6s 20ms/step - loss: 0.5896 - accuracy: 0.6867 - val_loss: 0.6250 - val_accuracy: 0.6471\n",
      "Epoch 9/17\n",
      "282/282 [==============================] - 5s 19ms/step - loss: 0.5635 - accuracy: 0.7123 - val_loss: 0.6188 - val_accuracy: 0.6871\n",
      "Epoch 10/17\n",
      "282/282 [==============================] - 6s 20ms/step - loss: 0.5605 - accuracy: 0.7124 - val_loss: 0.5918 - val_accuracy: 0.6829\n",
      "Epoch 11/17\n",
      "282/282 [==============================] - 5s 19ms/step - loss: 0.5345 - accuracy: 0.7341 - val_loss: 0.5871 - val_accuracy: 0.6886\n",
      "Epoch 12/17\n",
      "282/282 [==============================] - 6s 20ms/step - loss: 0.5134 - accuracy: 0.7470 - val_loss: 0.6057 - val_accuracy: 0.6957\n",
      "Epoch 13/17\n",
      "282/282 [==============================] - 6s 20ms/step - loss: 0.4880 - accuracy: 0.7633 - val_loss: 0.6233 - val_accuracy: 0.6757\n",
      "Epoch 14/17\n",
      "282/282 [==============================] - 6s 20ms/step - loss: 0.4713 - accuracy: 0.7746 - val_loss: 0.6246 - val_accuracy: 0.6914\n",
      "Epoch 15/17\n",
      "282/282 [==============================] - 5s 19ms/step - loss: 0.4561 - accuracy: 0.7804 - val_loss: 0.6049 - val_accuracy: 0.6971\n",
      "Epoch 16/17\n",
      "282/282 [==============================] - 5s 19ms/step - loss: 0.4332 - accuracy: 0.8004 - val_loss: 0.5945 - val_accuracy: 0.7257\n",
      "Epoch 17/17\n",
      "282/282 [==============================] - 5s 19ms/step - loss: 0.4172 - accuracy: 0.8044 - val_loss: 0.6010 - val_accuracy: 0.7143\n"
     ]
    }
   ],
   "source": [
    "history = model.fit(X_train, y_train, epochs = 17, validation_data=(X_val, y_val))"
   ]
  },
  {
   "cell_type": "code",
   "execution_count": 244,
   "id": "738f3f88",
   "metadata": {},
   "outputs": [
    {
     "name": "stdout",
     "output_type": "stream",
     "text": [
      "Accuracy on the training data:\n",
      "282/282 [==============================] - 2s 7ms/step - loss: 0.4024 - accuracy: 0.8128\n",
      "0.8127777576446533\n",
      "\n",
      "Accuracy on the test data:\n",
      "10/10 [==============================] - 0s 7ms/step - loss: 0.6028 - accuracy: 0.7133\n",
      "0.7133333086967468\n"
     ]
    }
   ],
   "source": [
    "print('Accuracy on the training data:')\n",
    "print(model.evaluate(X_train, y_train)[1])\n",
    "\n",
    "print('\\nAccuracy on the test data:')\n",
    "print(model.evaluate(X_test, y_test)[1])"
   ]
  },
  {
   "cell_type": "code",
   "execution_count": 245,
   "id": "e8b828e6",
   "metadata": {
    "scrolled": false
   },
   "outputs": [
    {
     "data": {
      "image/png": "[encoded data removed]",
      "text/plain": [
       "<Figure size 640x480 with 1 Axes>"
      ]
     },
     "metadata": {},
     "output_type": "display_data"
    }
   ],
   "source": [
    "# 3. visualization\n",
    "plt.plot(history.history['loss'], label='training loss', linestyle=':')\n",
    "plt.plot(history.history['val_loss'], label='validation loss')\n",
    "plt.title('Loss: Training vs Validation')\n",
    "plt.legend()\n",
    "plt.show()"
   ]
  },
  {
   "cell_type": "code",
   "execution_count": 243,
   "id": "744a9726",
   "metadata": {},
   "outputs": [
    {
     "data": {
      "text/plain": [
       "12500"
      ]
     },
     "execution_count": 243,
     "metadata": {},
     "output_type": "execute_result"
    }
   ],
   "source": [
    "# 4. testing data\n",
    "img_dir = r'/Users/kubamilcarz/My Drive/College/Sophomore/Python/Project/test'\n",
    "images = os.listdir(img_dir)\n",
    "full_images = [os.path.join(img_dir, img) for img in images]\n",
    "len(full_images)"
   ]
  },
  {
   "cell_type": "code",
   "execution_count": 242,
   "id": "2d10d242",
   "metadata": {},
   "outputs": [
    {
     "name": "stdout",
     "output_type": "stream",
     "text": [
      "**************************************************\n",
      "**************************************************\n",
      "**************************************************\n",
      "**************************************************\n",
      "**************************************************\n"
     ]
    },
    {
     "ename": "IndexError",
     "evalue": "index 0 is out of bounds for axis 0 with size 0",
     "output_type": "error",
     "traceback": [
      "\u001b[0;31m---------------------------------------------------------------------------\u001b[0m",
      "\u001b[0;31mIndexError\u001b[0m                                Traceback (most recent call last)",
      "Cell \u001b[0;32mIn[242], line 1\u001b[0m\n\u001b[0;32m----> 1\u001b[0m X, y \u001b[38;5;241m=\u001b[39m \u001b[43mload_images\u001b[49m\u001b[43m(\u001b[49m\u001b[43mimg_dir\u001b[49m\u001b[43m,\u001b[49m\u001b[43m \u001b[49m\u001b[43mn_images\u001b[49m\u001b[38;5;241;43m=\u001b[39;49m\u001b[38;5;241;43m10000\u001b[39;49m\u001b[43m,\u001b[49m\u001b[43m \u001b[49m\u001b[43mresize\u001b[49m\u001b[38;5;241;43m=\u001b[39;49m\u001b[43m(\u001b[49m\u001b[38;5;241;43m50\u001b[39;49m\u001b[43m,\u001b[49m\u001b[43m \u001b[49m\u001b[38;5;241;43m50\u001b[39;49m\u001b[43m)\u001b[49m\u001b[43m)\u001b[49m\n\u001b[1;32m      3\u001b[0m X_train, X_val_test, y_train, y_val_test \u001b[38;5;241m=\u001b[39m train_test_split(X, y, test_size\u001b[38;5;241m=\u001b[39m\u001b[38;5;241m0.1\u001b[39m)\n\u001b[1;32m      4\u001b[0m X_val, X_test, y_val, y_test \u001b[38;5;241m=\u001b[39m train_test_split(X_val_test, y_val_test, test_size\u001b[38;5;241m=\u001b[39m\u001b[38;5;241m0.3\u001b[39m)\n",
      "File \u001b[0;32m~/My Drive/College/Sophomore/Python/Project/imports_for_ML.py:98\u001b[0m, in \u001b[0;36mload_images\u001b[0;34m(img_dir, n_images, resize)\u001b[0m\n\u001b[1;32m     96\u001b[0m np\u001b[38;5;241m.\u001b[39mrandom\u001b[38;5;241m.\u001b[39mshuffle(sel_images)\n\u001b[1;32m     97\u001b[0m \u001b[38;5;28;01mfor\u001b[39;00m idx \u001b[38;5;129;01min\u001b[39;00m \u001b[38;5;28mrange\u001b[39m(n_per_categ):\n\u001b[0;32m---> 98\u001b[0m     full_img_path \u001b[38;5;241m=\u001b[39m os\u001b[38;5;241m.\u001b[39mpath\u001b[38;5;241m.\u001b[39mjoin(img_dir, \u001b[43msel_images\u001b[49m\u001b[43m[\u001b[49m\u001b[43midx\u001b[49m\u001b[43m]\u001b[49m)\n\u001b[1;32m     99\u001b[0m     imgs\u001b[38;5;241m.\u001b[39mappend(img_to_array(load_img(full_img_path,\n\u001b[1;32m    100\u001b[0m                                       target_size\u001b[38;5;241m=\u001b[39mresize)))\n\u001b[1;32m    101\u001b[0m     y\u001b[38;5;241m.\u001b[39mappend(flt_idx)\n",
      "\u001b[0;31mIndexError\u001b[0m: index 0 is out of bounds for axis 0 with size 0"
     ]
    }
   ],
   "source": [
    "X, y = load_images(img_dir, n_images=10000, resize=(50, 50))\n",
    "\n",
    "X_train, X_val_test, y_train, y_val_test = train_test_split(X, y, test_size=0.1)\n",
    "X_val, X_test, y_val, y_test = train_test_split(X_val_test, y_val_test, test_size=0.3)"
   ]
  },
  {
   "cell_type": "code",
   "execution_count": null,
   "id": "5789cfe4",
   "metadata": {},
   "outputs": [],
   "source": [
    "history = model.fit(X_train, y_train, epochs = 17, validation_data=(X_val, y_val))"
   ]
  },
  {
   "cell_type": "code",
   "execution_count": 208,
   "id": "deaefaae",
   "metadata": {},
   "outputs": [
    {
     "name": "stdout",
     "output_type": "stream",
     "text": [
      "1/1 [==============================] - 0s 58ms/step\n"
     ]
    },
    {
     "data": {
      "text/plain": [
       "array([[0.37533316]], dtype=float32)"
      ]
     },
     "execution_count": 208,
     "metadata": {},
     "output_type": "execute_result"
    },
    {
     "data": {
      "image/png": "[encoded data removed]",
      "text/plain": [
       "<Figure size 640x480 with 1 Axes>"
      ]
     },
     "metadata": {},
     "output_type": "display_data"
    }
   ],
   "source": [
    "# 6. I don't have dogs or cats, so let's treat these two as my own :)\n",
    "\n",
    "# test on an unseen image of a cat\n",
    "img = load_img(r'/Users/kubamilcarz/Library/Mobile Documents/com~apple~CloudDocs/Downloads/cat_predict', target_size=(50, 50))\n",
    "plt.imshow(img)\n",
    "img_array = img_to_array(img)\n",
    "model.predict(img_array.reshape((1, 50, 50, 3))) # 0.37 sure it's a cat"
   ]
  },
  {
   "cell_type": "code",
   "execution_count": 209,
   "id": "2d708b6b",
   "metadata": {
    "scrolled": false
   },
   "outputs": [
    {
     "name": "stdout",
     "output_type": "stream",
     "text": [
      "1/1 [==============================] - 0s 16ms/step\n"
     ]
    },
    {
     "data": {
      "text/plain": [
       "array([[0.9728162]], dtype=float32)"
      ]
     },
     "execution_count": 209,
     "metadata": {},
     "output_type": "execute_result"
    },
    {
     "data": {
      "image/png": "[encoded data removed]",
      "text/plain": [
       "<Figure size 640x480 with 1 Axes>"
      ]
     },
     "metadata": {},
     "output_type": "display_data"
    }
   ],
   "source": [
    "# test on an unseen image of a dog\n",
    "img = load_img(r'/Users/kubamilcarz/Library/Mobile Documents/com~apple~CloudDocs/Downloads/dog_predict', target_size=(50, 50))\n",
    "plt.imshow(img)\n",
    "img_array = img_to_array(img)\n",
    "model.predict(img_array.reshape((1, 50, 50, 3))) # 0.97 strongly sure a dog"
   ]
  },
  {
   "cell_type": "code",
   "execution_count": 212,
   "id": "274e3441",
   "metadata": {},
   "outputs": [],
   "source": [
    "# 7. save model\n",
    "import keras\n",
    "keras.models.save_model(model=model, filepath=r'/Users/kubamilcarz/Desktop/Jakub_Milcarz_46409_Model_final', \n",
    "                           save_format='h5')"
   ]
  },
  {
   "cell_type": "code",
   "execution_count": 213,
   "id": "1a915dba",
   "metadata": {},
   "outputs": [
    {
     "name": "stdout",
     "output_type": "stream",
     "text": [
      "Model: \"sequential_25\"\n",
      "_________________________________________________________________\n",
      " Layer (type)                Output Shape              Param #   \n",
      "=================================================================\n",
      " conv2d_116 (Conv2D)         (None, 48, 48, 16)        448       \n",
      "                                                                 \n",
      " conv2d_117 (Conv2D)         (None, 46, 46, 16)        2320      \n",
      "                                                                 \n",
      " max_pooling2d_56 (MaxPoolin  (None, 15, 15, 16)       0         \n",
      " g2D)                                                            \n",
      "                                                                 \n",
      " conv2d_118 (Conv2D)         (None, 13, 13, 16)        2320      \n",
      "                                                                 \n",
      " conv2d_119 (Conv2D)         (None, 11, 11, 16)        2320      \n",
      "                                                                 \n",
      " max_pooling2d_57 (MaxPoolin  (None, 5, 5, 16)         0         \n",
      " g2D)                                                            \n",
      "                                                                 \n",
      " flatten_25 (Flatten)        (None, 400)               0         \n",
      "                                                                 \n",
      " dense_50 (Dense)            (None, 64)                25664     \n",
      "                                                                 \n",
      " dense_51 (Dense)            (None, 1)                 65        \n",
      "                                                                 \n",
      "=================================================================\n",
      "Total params: 33,137\n",
      "Trainable params: 33,137\n",
      "Non-trainable params: 0\n",
      "_________________________________________________________________\n"
     ]
    }
   ],
   "source": [
    "# check the imported model\n",
    "from keras.models import load_model\n",
    "\n",
    "model_imported = load_model((r'/Users/kubamilcarz/Desktop/Jakub_Milcarz_46409_Model_final'))\n",
    "model_imported.summary()"
   ]
  },
  {
   "cell_type": "code",
   "execution_count": 214,
   "id": "a65ba7a8",
   "metadata": {},
   "outputs": [
    {
     "name": "stdout",
     "output_type": "stream",
     "text": [
      "Model: \"sequential_25\"\n",
      "_________________________________________________________________\n",
      " Layer (type)                Output Shape              Param #   \n",
      "=================================================================\n",
      " conv2d_116 (Conv2D)         (None, 48, 48, 16)        448       \n",
      "                                                                 \n",
      " conv2d_117 (Conv2D)         (None, 46, 46, 16)        2320      \n",
      "                                                                 \n",
      " max_pooling2d_56 (MaxPoolin  (None, 15, 15, 16)       0         \n",
      " g2D)                                                            \n",
      "                                                                 \n",
      " conv2d_118 (Conv2D)         (None, 13, 13, 16)        2320      \n",
      "                                                                 \n",
      " conv2d_119 (Conv2D)         (None, 11, 11, 16)        2320      \n",
      "                                                                 \n",
      " max_pooling2d_57 (MaxPoolin  (None, 5, 5, 16)         0         \n",
      " g2D)                                                            \n",
      "                                                                 \n",
      " flatten_25 (Flatten)        (None, 400)               0         \n",
      "                                                                 \n",
      " dense_50 (Dense)            (None, 64)                25664     \n",
      "                                                                 \n",
      " dense_51 (Dense)            (None, 1)                 65        \n",
      "                                                                 \n",
      "=================================================================\n",
      "Total params: 33,137\n",
      "Trainable params: 33,137\n",
      "Non-trainable params: 0\n",
      "_________________________________________________________________\n"
     ]
    }
   ],
   "source": [
    "# check against our model\n",
    "model.summary() # same thing -> importing works"
   ]
  },
  {
   "cell_type": "code",
   "execution_count": null,
   "id": "67bcecc3",
   "metadata": {},
   "outputs": [],
   "source": []
  }
 ],
 "metadata": {
  "kernelspec": {
   "display_name": "Python 3 (ipykernel)",
   "language": "python",
   "name": "python3"
  },
  "language_info": {
   "codemirror_mode": {
    "name": "ipython",
    "version": 3
   },
   "file_extension": ".py",
   "mimetype": "text/x-python",
   "name": "python",
   "nbconvert_exporter": "python",
   "pygments_lexer": "ipython3",
   "version": "3.9.7"
  }
 },
 "nbformat": 4,
 "nbformat_minor": 5
}
